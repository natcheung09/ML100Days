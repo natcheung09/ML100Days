{
 "cells": [
  {
   "cell_type": "code",
   "execution_count": null,
   "metadata": {
    "id": "g7_Zhb9Bif-K"
   },
   "outputs": [],
   "source": []
  },
  {
   "cell_type": "markdown",
   "metadata": {
    "id": "GLhLqOtlj1fc"
   },
   "source": [
    "作業目標<br>\n",
    "活用矩陣運算，實做線性代數<br>\n",
    "作業重點<br>\n",
    "線性代數公式應用<br>\n",
    "矩陣相乘維度需要對好，例如:2X3矩陣乘上3X5矩陣得到2X5矩陣"
   ]
  },
  {
   "cell_type": "markdown",
   "metadata": {
    "id": "Rq6NRNxLj4w1"
   },
   "source": [
    "題目:<br>\n",
    "array1 = np.array([[10, 8], [3, 5]]) <br>\n",
    "1. 運用上列array計算反矩陣，乘上原矩陣，並觀察是否為單位矩陣?\n",
    "2. 運用上列array計算特徵值、特徵向量?\n",
    "3. 運用上列array計算SVD?"
   ]
  },
  {
   "cell_type": "code",
   "execution_count": 1,
   "metadata": {
    "id": "YakNatIPj3CW"
   },
   "outputs": [],
   "source": [
    "import numpy as np"
   ]
  },
  {
   "cell_type": "code",
   "execution_count": 10,
   "metadata": {
    "id": "QT4ntMV1kR1c"
   },
   "outputs": [
    {
     "name": "stdout",
     "output_type": "stream",
     "text": [
      "[[ 0.19230769 -0.30769231]\n",
      " [-0.11538462  0.38461538]]\n"
     ]
    }
   ],
   "source": [
    "#1. 運用上列array計算反矩陣，乘上原矩陣，並觀察是否為單位矩陣?\n",
    "array1 = np.array([[10, 8], [3, 5]])\n",
    "array2 = np.linalg.inv(array1)\n",
    "print(array2)"
   ]
  },
  {
   "cell_type": "code",
   "execution_count": 12,
   "metadata": {
    "id": "9f7cVxwwk-y9"
   },
   "outputs": [
    {
     "ename": "TypeError",
     "evalue": "_outer_dispatcher() missing 1 required positional argument: 'b'",
     "output_type": "error",
     "traceback": [
      "\u001b[1;31m---------------------------------------------------------------------------\u001b[0m",
      "\u001b[1;31mTypeError\u001b[0m                                 Traceback (most recent call last)",
      "\u001b[1;32m<ipython-input-12-3d1cbc62571b>\u001b[0m in \u001b[0;36m<module>\u001b[1;34m\u001b[0m\n\u001b[0;32m      1\u001b[0m \u001b[1;31m#2. 運用上列array計算特徵值、特徵向量?\u001b[0m\u001b[1;33m\u001b[0m\u001b[1;33m\u001b[0m\u001b[1;33m\u001b[0m\u001b[0m\n\u001b[1;32m----> 2\u001b[1;33m \u001b[0mnp\u001b[0m\u001b[1;33m.\u001b[0m\u001b[0mouter\u001b[0m\u001b[1;33m(\u001b[0m\u001b[0marray2\u001b[0m\u001b[1;33m)\u001b[0m\u001b[1;33m\u001b[0m\u001b[1;33m\u001b[0m\u001b[0m\n\u001b[0m",
      "\u001b[1;32m<__array_function__ internals>\u001b[0m in \u001b[0;36mouter\u001b[1;34m(*args, **kwargs)\u001b[0m\n",
      "\u001b[1;31mTypeError\u001b[0m: _outer_dispatcher() missing 1 required positional argument: 'b'"
     ]
    }
   ],
   "source": [
    "#2. 運用上列array計算特徵值、特徵向量?\n",
    "np.outer(array2)"
   ]
  },
  {
   "cell_type": "code",
   "execution_count": null,
   "metadata": {
    "id": "OHSs5etxnL8D"
   },
   "outputs": [],
   "source": [
    "#3. 運用上列array計算SVD?\n"
   ]
  },
  {
   "cell_type": "code",
   "execution_count": null,
   "metadata": {},
   "outputs": [],
   "source": []
  },
  {
   "cell_type": "code",
   "execution_count": null,
   "metadata": {
    "id": "5BaVZFRvpXZo"
   },
   "outputs": [],
   "source": []
  }
 ],
 "metadata": {
  "colab": {
   "collapsed_sections": [],
   "name": "作業Hong題目.ipynb",
   "provenance": []
  },
  "kernelspec": {
   "display_name": "Python 3",
   "language": "python",
   "name": "python3"
  },
  "language_info": {
   "codemirror_mode": {
    "name": "ipython",
    "version": 3
   },
   "file_extension": ".py",
   "mimetype": "text/x-python",
   "name": "python",
   "nbconvert_exporter": "python",
   "pygments_lexer": "ipython3",
   "version": "3.8.3"
  }
 },
 "nbformat": 4,
 "nbformat_minor": 1
}
